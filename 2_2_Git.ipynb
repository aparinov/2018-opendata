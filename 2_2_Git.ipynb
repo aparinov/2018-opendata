{
 "cells": [
  {
   "cell_type": "markdown",
   "metadata": {},
   "source": [
    "## Git"
   ]
  },
  {
   "cell_type": "markdown",
   "metadata": {},
   "source": [
    "###  Git Services\n",
    "- [Github](http://github.com)\n",
    "- [Bitbucket](http://bitbucket.org)\n",
    "- [Gitlab](http://gitlab.com)\n",
    "- [GuiClients](https://git-scm.com/downloads/guis )\n",
    "- [Comparison](https://www.git-tower.com/blog/git-hosting-services-compared/)"
   ]
  },
  {
   "cell_type": "markdown",
   "metadata": {},
   "source": [
    "## Scenarios"
   ]
  },
  {
   "cell_type": "markdown",
   "metadata": {},
   "source": [
    "### Клонирование репозитория\n",
    "\n",
    "- Открываем терминал \n",
    "    - Windows: Win+R -> powershell\n",
    "    - Mac: Spotlight Search -> Terminal\n",
    "- Тестируем наличие\n",
    "    - git --version\n",
    "- Если не установлен, то устанавливаем\n",
    "    - Windows: [Git-scm](https://git-scm.com/download/win)\n",
    "    - Mac: [Terminal Client](https://git-scm.com/download/mac)\n",
    "- Если установлен, набираем команду:\n",
    "    - git clone https://github.com/aparinov/2018-opendata"
   ]
  },
  {
   "cell_type": "markdown",
   "metadata": {},
   "source": [
    "## Создание репозитория\n",
    "\n",
    "- Создаем репозиторий на сайте http://github.com\n",
    "- Клонируем на локальный компьютер\n",
    "- Переходим в директорию и выполняем команду\n",
    "    - git status"
   ]
  },
  {
   "cell_type": "markdown",
   "metadata": {},
   "source": [
    "### Добавление данных в репозиторий\n",
    "- Просто добавляем файлы в директорию где находится репозиторий "
   ]
  },
  {
   "cell_type": "markdown",
   "metadata": {},
   "source": [
    "### Загрузка данных на сайт\n",
    "\n",
    "- Переходим в директорию с репозиторием - (Например:  cd ~/2018-opendata)\n",
    "- Добавляем файлы в коммит\n",
    "    -  git add 1.txt\n",
    "- Сохраняем данные в коммите \n",
    "    - git commit -m \"first commit\"\n",
    "- Загружаем данные на сервер (сайт github)\n",
    "    - git push"
   ]
  },
  {
   "cell_type": "markdown",
   "metadata": {},
   "source": [
    "### Синхронизация данных с сервером\n",
    "- Переходим в директорию с репозиторием\n",
    "- Выполняем команду \n",
    "    - git pull"
   ]
  },
  {
   "cell_type": "markdown",
   "metadata": {},
   "source": [
    "## Task\n",
    "- Создайте аккаунт если его нет\n",
    "- Добавьте название репозитория в Onenote/\n",
    "- Создайте репозиторий в гитхаб\n",
    "- Добавьте учетную запись **aparinov** в качестве администратора"
   ]
  },
  {
   "cell_type": "markdown",
   "metadata": {},
   "source": [
    "### Links\n",
    "- [Tutorial](https://git-scm.com/book/ru/v2)"
   ]
  }
 ],
 "metadata": {
  "kernelspec": {
   "display_name": "Python 3",
   "language": "python",
   "name": "python3"
  },
  "language_info": {
   "codemirror_mode": {
    "name": "ipython",
    "version": 3
   },
   "file_extension": ".py",
   "mimetype": "text/x-python",
   "name": "python",
   "nbconvert_exporter": "python",
   "pygments_lexer": "ipython3",
   "version": "3.6.1"
  }
 },
 "nbformat": 4,
 "nbformat_minor": 1
}
