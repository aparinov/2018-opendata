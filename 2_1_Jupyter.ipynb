{
 "cells": [
  {
   "cell_type": "markdown",
   "metadata": {},
   "source": [
    "# [Jupyter](http://jupyter.org/install.html)"
   ]
  },
  {
   "cell_type": "markdown",
   "metadata": {},
   "source": [
    "### [Security](https://jupyter-notebook.readthedocs.io/en/stable/public_server.html )\n",
    "\n",
    "1. Генерация файла с настройками jupyter_notebook_config.json\n",
    "    1. Откройте Powershell (Win+R -> powershell)\n",
    "    * Перейдите в директорию C:\\ProgramData\\Anaconda3\\Scripts\\\n",
    "    * Выполните команду: ./jupyter.exe notebook --generate-config\n",
    "    \n",
    "2. Установка пароля\n",
    "    1. Откройте Powershell (Win+R -> powershell)\n",
    "    * Перейдите в директорию C:\\ProgramData\\Anaconda3\\Scripts\\\n",
    "    * Выполните команду: ./jupyter.exe notebook password\n",
    "    * Введите два раза одну и ту же комбинация символов и цифр\n",
    "    \n",
    "3. Отмена пароля\n",
    "    1. Перейдите в папку С:\\Users\\<Имя пользователя>\n",
    "    * Откройте файл jupyter_notebook_config.json в текстовом редакторе\n",
    "    * Нажмите Crtl+F -> Введите NotebookApp\n",
    "    * Установите пробелы в строчках c.NotebookApp.token = ' '\n",
    "    * c.NotebookApp.password = ' '"
   ]
  },
  {
   "cell_type": "markdown",
   "metadata": {},
   "source": [
    "### Markdown"
   ]
  },
  {
   "cell_type": "markdown",
   "metadata": {},
   "source": [
    "### Заголовоки\n",
    "\n",
    "# Заголовок 1\n",
    "## H2\n",
    "### H3\n",
    "#### H4\n",
    "##### H5\n",
    "###### H6\n",
    "\n",
    "Alternatively, for H1 and H2, an underline-ish style:\n",
    "\n",
    "Alt-H1\n",
    "====\n",
    "\n",
    "Alt-H2\n",
    "------"
   ]
  },
  {
   "cell_type": "markdown",
   "metadata": {},
   "source": [
    "### Списки\n",
    "\n",
    "1. Первый элемент нумерованного списка\n",
    "2. Второй элемент нумерованного списка\n",
    "  * Ненумерованный подспискок\n",
    "  + Ненумерованный список\n",
    "1. Конкретные цифры не важны. Важно чтобы это были цифры\n",
    "  1. Нумерованный подсписок\n",
    "4. Еще один элемент  \n",
    "   \n",
    "   Текст перед элементом списка\n",
    "\n",
    "* Выделенный элемент\n"
   ]
  },
  {
   "cell_type": "markdown",
   "metadata": {},
   "source": [
    "### Выделение слов\n",
    "\n",
    "Курсив *снежинки* или _подчеркивание_.\n",
    "\n",
    "Жирный шрифт **две звездочки** или __два подчеркивания__.\n",
    "\n",
    "Жирный шрифт и курсив **звездочки и  _одно подчеркивание_**.\n",
    "\n",
    "Зачернутые слова ~~Две тильды.~~"
   ]
  },
  {
   "cell_type": "markdown",
   "metadata": {},
   "source": [
    "### Cсылки\n",
    "\n",
    "- [Ссылка на сайт](https://www.google.com)\n",
    "\n",
    "- [cсылка 2][link]\n",
    "\n",
    "- [cсылка 3][1]\n",
    "\n",
    "- [link1]\n",
    "\n",
    "- Ссылки могут сразу быть указаны в угловых скобках  <http://www.example.com> \n",
    "\n",
    "Источник ресурсов\n",
    "\n",
    "[link]: https://www.mozilla.org\n",
    "[1]: http://slashdot.org\n",
    "[link1]: http://www.reddit.com\n"
   ]
  },
  {
   "cell_type": "markdown",
   "metadata": {},
   "source": [
    "### Картинки\n",
    "\n",
    "Картинка с ссылкой в строке\n",
    "![alt text](https://github.com/adam-p/markdown-here/raw/master/src/common/images/icon48.png \"Logo Title Text 1\")\n",
    "\n",
    "![картинка сервиса imgur](http://i.imgur.com/uiu0KLI.gif?1)\n",
    "\n",
    "Картинка с указанием в ресурсах\n",
    "![alt text][logo]\n",
    "\n",
    "[logo]: https://github.com/adam-p/markdown-here/raw/master/src/common/images/icon48.png \"Logo Title Text 2\"\n"
   ]
  },
  {
   "cell_type": "markdown",
   "metadata": {},
   "source": [
    "### Подсветка для различных языков программирования\n",
    "\n",
    "\n",
    "\n",
    "```javascript\n",
    "var s = \"JavaScript syntax highlighting\";\n",
    "alert(s);\n",
    "```\n",
    " \n",
    "```python\n",
    "s = \"Python syntax highlighting\"\n",
    "print s\n",
    "```\n",
    " \n",
    "```\n",
    "Без подсветки\n",
    "But let's throw in a <b>tag</b>.\n",
    "```"
   ]
  },
  {
   "cell_type": "markdown",
   "metadata": {},
   "source": [
    "### Таблица\n",
    "\n",
    "Markdown | Less | Pretty\n",
    "--- | --- | ---\n",
    "*Still* | `renders` | **nicely**\n",
    "1 | 2 | 3"
   ]
  },
  {
   "cell_type": "markdown",
   "metadata": {},
   "source": [
    "### Блок текста\n",
    "\n",
    ">Это блок текста\n",
    "> тот же блок\n",
    "\n",
    "Это вне блока текста\n",
    "> Новый блок текста"
   ]
  },
  {
   "cell_type": "markdown",
   "metadata": {},
   "source": [
    "### Горизонтальные линии\n",
    "\n",
    "Три и более\n",
    "\n",
    "Звездочки\n",
    "***\n",
    "Или подчеркивания\n",
    "___\n",
    "Текст после подчеркивания"
   ]
  },
  {
   "cell_type": "raw",
   "metadata": {},
   "source": [
    "### Встроенное видео\n",
    "\n",
    "Текст\n",
    "\n",
    "[![Тут размещается картинка](http://img.youtube.com/vi/YOUTUBE_VIDEO_ID_HERE/0.jpg)](https://www.youtube.com/watch?v=LLk9_EH6Pfo)"
   ]
  },
  {
   "cell_type": "code",
   "execution_count": null,
   "metadata": {
    "collapsed": true
   },
   "outputs": [],
   "source": []
  },
  {
   "cell_type": "raw",
   "metadata": {},
   "source": [
    "\n",
    "### Команды клавиатуры\n",
    "\n",
    "- Esc- вход в режим редактирования\n",
    "- Y - код\n",
    "- M - разметка\n",
    "- R - сырой текст\n",
    "- 1,2,3,4 - заголовок\n",
    "- A/B - вставить ссылку ниже\\выше\n",
    "- L - включить нумерацию строк"
   ]
  },
  {
   "cell_type": "code",
   "execution_count": null,
   "metadata": {
    "collapsed": true
   },
   "outputs": [],
   "source": []
  },
  {
   "cell_type": "code",
   "execution_count": null,
   "metadata": {
    "collapsed": true
   },
   "outputs": [],
   "source": [
    "### Источники данных\n",
    "\n",
    "1. [Тюториал](http://www.markdowntutorial.com/)\n",
    "* [10 бесплатных онлайн редакторов](https://www.webpagefx.com/blog/web-design/online-markdown-editors/)\n",
    "* [Редактор для windows](https://markable.in/)\n",
    "* [Shortcuts](https://www.cheatography.com/weidadeyue/cheat-sheets/jupyter-notebook/)"
   ]
  }
 ],
 "metadata": {
  "kernelspec": {
   "display_name": "Python 3",
   "language": "python",
   "name": "python3"
  },
  "language_info": {
   "codemirror_mode": {
    "name": "ipython",
    "version": 3
   },
   "file_extension": ".py",
   "mimetype": "text/x-python",
   "name": "python",
   "nbconvert_exporter": "python",
   "pygments_lexer": "ipython3",
   "version": "3.6.1"
  }
 },
 "nbformat": 4,
 "nbformat_minor": 1
}
