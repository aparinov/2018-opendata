{
 "cells": [
  {
   "cell_type": "markdown",
   "metadata": {},
   "source": [
    "# [OS Package](https://docs.python.org/3.5/library/os.html)"
   ]
  },
  {
   "cell_type": "code",
   "execution_count": 1,
   "metadata": {
    "collapsed": true
   },
   "outputs": [],
   "source": [
    "#from os import *\n",
    "import os"
   ]
  },
  {
   "cell_type": "code",
   "execution_count": null,
   "metadata": {},
   "outputs": [],
   "source": [
    "file = open(\"./0.txt\",\"w\")\n",
    "file.write(\"Hello123\")"
   ]
  },
  {
   "cell_type": "code",
   "execution_count": null,
   "metadata": {
    "collapsed": true
   },
   "outputs": [],
   "source": [
    "file.close()"
   ]
  },
  {
   "cell_type": "code",
   "execution_count": null,
   "metadata": {},
   "outputs": [],
   "source": [
    "os.listdir(\"./aparinov\")"
   ]
  },
  {
   "cell_type": "code",
   "execution_count": null,
   "metadata": {},
   "outputs": [],
   "source": [
    "baseDir = os.getcwd()\n",
    "print(baseDir)"
   ]
  },
  {
   "cell_type": "code",
   "execution_count": null,
   "metadata": {},
   "outputs": [],
   "source": [
    "logDir = os.path.join(baseDir, \"logs\")\n",
    "print(logDir)"
   ]
  },
  {
   "cell_type": "code",
   "execution_count": null,
   "metadata": {},
   "outputs": [],
   "source": [
    "def createFile(path=\"./\",name=\"1.txt\"):\n",
    "            path1 = path+name\n",
    "            fp = open(path1,\"w\")\n",
    "            fp.write(path1)\n",
    "            fp.close()\n",
    "            \n",
    "#createFile(name=\"2.txt\")\n",
    "\n",
    "\n",
    "createFile(\"C:/\") # Permission denied"
   ]
  },
  {
   "cell_type": "code",
   "execution_count": null,
   "metadata": {},
   "outputs": [],
   "source": [
    "def createFiles(path=\"./\",number=3):\n",
    "        for i in range(number):\n",
    "            path1 = path+str(i+1)+\".txt\"\n",
    "            fp = open(path1,\"w\")\n",
    "            fp.write(path1)\n",
    "            fp.close()\n",
    "        print(\"Successfully created \"+str(number)+\" files\")\n",
    "        \n",
    "createFiles(\"C:/_test/\",100000000)"
   ]
  },
  {
   "cell_type": "code",
   "execution_count": 6,
   "metadata": {},
   "outputs": [
    {
     "data": {
      "text/plain": [
       "['.dropbox',\n",
       " '.ipynb_checkpoints',\n",
       " '0.txt',\n",
       " '1.docx',\n",
       " '1.txt',\n",
       " '2.txt',\n",
       " '345.txt',\n",
       " 'aparinov',\n",
       " 'desktop.ini',\n",
       " 'dir1',\n",
       " 'dir2',\n",
       " 'hw1-svm.ipynb',\n",
       " 'Input-Output-2.ipynb',\n",
       " 'lecture-1-kernels.pdf',\n",
       " 'titanium.csv',\n",
       " 'Visualisation 3d.ipynb',\n",
       " 'war_and_peace_en.txt',\n",
       " 'war_and_peace_es.txt',\n",
       " 'ykashnitsky',\n",
       " '~$1.docx']"
      ]
     },
     "execution_count": 6,
     "metadata": {},
     "output_type": "execute_result"
    }
   ],
   "source": [
    "os.listdir()"
   ]
  },
  {
   "cell_type": "code",
   "execution_count": 5,
   "metadata": {},
   "outputs": [],
   "source": [
    "newdir=\"dir2\"\n",
    "os.mkdir(newdir)"
   ]
  },
  {
   "cell_type": "code",
   "execution_count": null,
   "metadata": {},
   "outputs": [],
   "source": [
    "createFiles(\"./dir1/\",105)\n",
    "os.listdir(\"./dir1\")"
   ]
  },
  {
   "cell_type": "markdown",
   "metadata": {},
   "source": [
    "### [OS.Open](https://docs.python.org/3/library/os.html#os.open)"
   ]
  },
  {
   "cell_type": "markdown",
   "metadata": {},
   "source": [
    "#### os.open(file, flags[, mode]);\n",
    "\n",
    "#### Parameters\n",
    "file -- File name to be opened.\n",
    "\n",
    "flags -- The following constants are options for the flags. They can be combined using the bitwise OR operator |. Some of them are not available on all platforms.\n",
    "\n",
    "- os.O_RDONLY: open for reading only\n",
    "- os.O_WRONLY: open for writing only\n",
    "- os.O_RDWR : open for reading and writing\n",
    "- os.O_NONBLOCK: do not block on open\n",
    "- os.O_APPEND: append on each write\n",
    "- os.O_CREAT: create file if it does not exist\n",
    "- os.O_TRUNC: truncate size to 0\n",
    "- os.O_EXCL: error if create and file exists\n",
    "- os.O_SHLOCK: atomically obtain a shared lock\n",
    "- os.O_EXLOCK: atomically obtain an exclusive lock\n",
    "- os.O_DIRECT: eliminate or reduce cache effects\n",
    "- os.O_FSYNC : synchronous writes\n",
    "- os.O_NOFOLLOW: do not follow symlinks\n",
    "\n",
    "mode -- This work in similar way as it works for chmod() method."
   ]
  },
  {
   "cell_type": "code",
   "execution_count": null,
   "metadata": {},
   "outputs": [],
   "source": [
    "fd = os.open( \"foo.txt\", os.O_RDWR|os.O_CREAT )"
   ]
  },
  {
   "cell_type": "code",
   "execution_count": null,
   "metadata": {},
   "outputs": [],
   "source": [
    "os.close(fd)"
   ]
  },
  {
   "cell_type": "markdown",
   "metadata": {},
   "source": [
    "### Get only files"
   ]
  },
  {
   "cell_type": "markdown",
   "metadata": {},
   "source": [
    "- [os.path](https://docs.python.org/3.5/library/os.path.html)\n",
    "- [pathlib](https://docs.python.org/3.5/library/pathlib.html#module-pathlib)"
   ]
  },
  {
   "cell_type": "code",
   "execution_count": null,
   "metadata": {
    "collapsed": true
   },
   "outputs": [],
   "source": [
    "from pathlib import Path\n",
    "def createFiles(path=\"./\",number=5):\n",
    "    for j in range(number):\n",
    "        path1=path+str(j+1)\n",
    "        Path(path1).touch() \n",
    "createFiles()"
   ]
  },
  {
   "cell_type": "code",
   "execution_count": null,
   "metadata": {
    "collapsed": true
   },
   "outputs": [],
   "source": [
    "os.list"
   ]
  },
  {
   "cell_type": "code",
   "execution_count": 9,
   "metadata": {},
   "outputs": [
    {
     "name": "stdout",
     "output_type": "stream",
     "text": [
      "True\n",
      "False\n"
     ]
    }
   ],
   "source": [
    "from os.path import isfile,isdir\n",
    "print(isfile(\"./Input-Output-2.ipynb\"))\n",
    "print(isdir(\"./Input-Output-2.ipynb\"))"
   ]
  },
  {
   "cell_type": "code",
   "execution_count": 10,
   "metadata": {
    "collapsed": true
   },
   "outputs": [],
   "source": [
    "from os import listdir\n",
    "from os.path import isfile, join\n",
    "\n",
    "mypath=\"./\"\n",
    "onlyfiles = [f for f in listdir(mypath) if isfile(join(mypath, f))]"
   ]
  },
  {
   "cell_type": "code",
   "execution_count": 11,
   "metadata": {},
   "outputs": [
    {
     "name": "stdout",
     "output_type": "stream",
     "text": [
      "['.dropbox', '0.txt', '1.docx', '1.txt', '2.txt', '345.txt', 'desktop.ini', 'hw1-svm.ipynb', 'Input-Output-2.ipynb', 'lecture-1-kernels.pdf', 'titanium.csv', 'Visualisation 3d.ipynb', 'war_and_peace_en.txt', 'war_and_peace_es.txt', '~$1.docx']\n"
     ]
    }
   ],
   "source": [
    "print(onlyfiles)"
   ]
  },
  {
   "cell_type": "markdown",
   "metadata": {},
   "source": [
    "### Delete files and dirs"
   ]
  },
  {
   "cell_type": "code",
   "execution_count": 16,
   "metadata": {},
   "outputs": [
    {
     "data": {
      "text/plain": [
       "['.dropbox',\n",
       " '.ipynb_checkpoints',\n",
       " '1.docx',\n",
       " 'aparinov',\n",
       " 'desktop.ini',\n",
       " 'dir1',\n",
       " 'dir2',\n",
       " 'hw1-svm.ipynb',\n",
       " 'Input-Output-2.ipynb',\n",
       " 'lecture-1-kernels.pdf',\n",
       " 'titanium.csv',\n",
       " 'Visualisation 3d.ipynb',\n",
       " 'war_and_peace_en.txt',\n",
       " 'war_and_peace_es.txt',\n",
       " 'ykashnitsky',\n",
       " '~$1.docx']"
      ]
     },
     "execution_count": 16,
     "metadata": {},
     "output_type": "execute_result"
    }
   ],
   "source": [
    "os.remove(\"./345.txt\")\n",
    "os.listdir()"
   ]
  },
  {
   "cell_type": "markdown",
   "metadata": {},
   "source": [
    "### Delete dirs"
   ]
  },
  {
   "cell_type": "code",
   "execution_count": null,
   "metadata": {},
   "outputs": [],
   "source": [
    "os.mkdir(\"dir2\")\n",
    "os.listdir()"
   ]
  },
  {
   "cell_type": "code",
   "execution_count": 18,
   "metadata": {},
   "outputs": [
    {
     "data": {
      "text/plain": [
       "['.dropbox',\n",
       " '.ipynb_checkpoints',\n",
       " '1.docx',\n",
       " 'aparinov',\n",
       " 'desktop.ini',\n",
       " 'hw1-svm.ipynb',\n",
       " 'Input-Output-2.ipynb',\n",
       " 'lecture-1-kernels.pdf',\n",
       " 'titanium.csv',\n",
       " 'Visualisation 3d.ipynb',\n",
       " 'war_and_peace_en.txt',\n",
       " 'war_and_peace_es.txt',\n",
       " 'ykashnitsky',\n",
       " '~$1.docx']"
      ]
     },
     "execution_count": 18,
     "metadata": {},
     "output_type": "execute_result"
    }
   ],
   "source": [
    "os.rmdir(\"dir1\")\n",
    "os.listdir()"
   ]
  },
  {
   "cell_type": "markdown",
   "metadata": {},
   "source": [
    "[Recursive delete dirs](https://docs.python.org/3.5/library/shutil.html#shutil.rmtree)"
   ]
  },
  {
   "cell_type": "code",
   "execution_count": 19,
   "metadata": {},
   "outputs": [
    {
     "data": {
      "text/plain": [
       "'nt'"
      ]
     },
     "execution_count": 19,
     "metadata": {},
     "output_type": "execute_result"
    }
   ],
   "source": [
    "os.name"
   ]
  },
  {
   "cell_type": "code",
   "execution_count": null,
   "metadata": {},
   "outputs": [],
   "source": [
    "logfile= os.path.join(baseDir, \"1.conf\")\n",
    "print(logfile)"
   ]
  },
  {
   "cell_type": "code",
   "execution_count": null,
   "metadata": {},
   "outputs": [],
   "source": [
    "f = open(logfile, \"w\")"
   ]
  },
  {
   "cell_type": "code",
   "execution_count": null,
   "metadata": {},
   "outputs": [],
   "source": [
    "class Table:\n",
    "    def __init__(self,x,y,z):\n",
    "        self.x=x\n",
    "        self.y=y\n",
    "        self.z=z\n",
    "        \n",
    "    def getV(self):\n",
    "        return self.x*self.y*self.z\n",
    "    def getZ(self):\n",
    "        return self.z"
   ]
  },
  {
   "cell_type": "code",
   "execution_count": null,
   "metadata": {},
   "outputs": [],
   "source": [
    "t = Table(1,2,3)"
   ]
  },
  {
   "cell_type": "code",
   "execution_count": null,
   "metadata": {},
   "outputs": [],
   "source": [
    "t.z"
   ]
  },
  {
   "cell_type": "code",
   "execution_count": null,
   "metadata": {},
   "outputs": [],
   "source": [
    "type(t)"
   ]
  },
  {
   "cell_type": "code",
   "execution_count": null,
   "metadata": {
    "collapsed": true
   },
   "outputs": [],
   "source": [
    "L = list()"
   ]
  },
  {
   "cell_type": "code",
   "execution_count": null,
   "metadata": {
    "collapsed": true
   },
   "outputs": [],
   "source": [
    "d = dict()"
   ]
  },
  {
   "cell_type": "code",
   "execution_count": null,
   "metadata": {
    "collapsed": true
   },
   "outputs": [],
   "source": [
    "d - экземпляр класса Dictionary"
   ]
  },
  {
   "cell_type": "code",
   "execution_count": null,
   "metadata": {
    "collapsed": true
   },
   "outputs": [],
   "source": [
    "s = set()"
   ]
  },
  {
   "cell_type": "code",
   "execution_count": null,
   "metadata": {
    "collapsed": true
   },
   "outputs": [],
   "source": [
    "s - экземпляр класса словарь"
   ]
  },
  {
   "cell_type": "code",
   "execution_count": null,
   "metadata": {
    "collapsed": true
   },
   "outputs": [],
   "source": [
    "s1=\"this is string\""
   ]
  },
  {
   "cell_type": "code",
   "execution_count": null,
   "metadata": {},
   "outputs": [],
   "source": [
    "type(s1)"
   ]
  },
  {
   "cell_type": "code",
   "execution_count": 21,
   "metadata": {},
   "outputs": [
    {
     "data": {
      "text/plain": [
       "['.dropbox',\n",
       " '.ipynb_checkpoints',\n",
       " '1.docx',\n",
       " 'aparinov',\n",
       " 'desktop.ini',\n",
       " 'hw1-svm.ipynb',\n",
       " 'Input-Output-2.ipynb',\n",
       " 'iris.data.txt',\n",
       " 'lecture-1-kernels.pdf',\n",
       " 'titanium.csv',\n",
       " 'Visualisation 3d.ipynb',\n",
       " 'war_and_peace_en.txt',\n",
       " 'war_and_peace_es.txt',\n",
       " 'ykashnitsky',\n",
       " '~$1.docx']"
      ]
     },
     "execution_count": 21,
     "metadata": {},
     "output_type": "execute_result"
    }
   ],
   "source": [
    "os.listdir()"
   ]
  },
  {
   "cell_type": "code",
   "execution_count": 40,
   "metadata": {},
   "outputs": [],
   "source": [
    "f=open(\"iris.data.txt\",\"r\")\n",
    "ls=list()\n",
    "for line in f.readlines():\n",
    "    ls.append(line)\n",
    "f.close()"
   ]
  },
  {
   "cell_type": "code",
   "execution_count": 41,
   "metadata": {},
   "outputs": [
    {
     "data": {
      "text/plain": [
       "151"
      ]
     },
     "execution_count": 41,
     "metadata": {},
     "output_type": "execute_result"
    }
   ],
   "source": [
    "len(ls)"
   ]
  },
  {
   "cell_type": "code",
   "execution_count": 44,
   "metadata": {},
   "outputs": [],
   "source": [
    "ls2=ls[0].split(\",\")"
   ]
  },
  {
   "cell_type": "markdown",
   "metadata": {},
   "source": [
    "   1. sepal length in cm\n",
    "   2. sepal width in cm\n",
    "   3. petal length in cm\n",
    "   4. petal width in cm\n",
    "   5. class: \n",
    "      -- Iris Setosa\n",
    "      -- Iris Versicolour\n",
    "      -- Iris Virginica"
   ]
  },
  {
   "cell_type": "code",
   "execution_count": null,
   "metadata": {
    "collapsed": true
   },
   "outputs": [],
   "source": [
    "151\n",
    "0.json\n",
    "....\n",
    "151.json"
   ]
  },
  {
   "cell_type": "code",
   "execution_count": null,
   "metadata": {
    "collapsed": true
   },
   "outputs": [],
   "source": [
    "d={}\n",
    "for i in ls2:\n",
    "    d[\"sepal_length\"]=ls2[0]\n",
    "    d[\"sepal_width\"]=ls2[1]\n",
    "    d[\"petal_length\"]=ls2[2]\n",
    "    d[\"petal_width\"]=ls2[3]\n",
    "    d[\"class\"]=ls2[4]"
   ]
  },
  {
   "cell_type": "code",
   "execution_count": 50,
   "metadata": {},
   "outputs": [
    {
     "name": "stdout",
     "output_type": "stream",
     "text": [
      "['\\n']\n"
     ]
    }
   ],
   "source": [
    "dictList=[]\n",
    "for id,line in enumerate(ls):\n",
    "    ls2=line.split(\",\")\n",
    "    #print(ls2[1])\n",
    "    d={}\n",
    "    for i in ls2:\n",
    "        try:\n",
    "            d[\"id\"]=id\n",
    "            d[\"sepal_length\"]=ls2[0]\n",
    "            d[\"sepal_width\"]=ls2[1]\n",
    "            d[\"petal_length\"]=ls2[2]\n",
    "            d[\"petal_width\"]=ls2[3]\n",
    "            d[\"class\"]=ls2[4]\n",
    "        except IndexError:\n",
    "            print(ls2)\n",
    "    dictList.append(d)"
   ]
  },
  {
   "cell_type": "code",
   "execution_count": 58,
   "metadata": {
    "collapsed": true
   },
   "outputs": [],
   "source": [
    "import json\n",
    "\n",
    "def save2json(value):\n",
    "    f = open(str(value[\"id\"]),\"w\")\n",
    "    js = json.dumps(value)\n",
    "    f.write(js)\n",
    "    f.close()"
   ]
  },
  {
   "cell_type": "code",
   "execution_count": 59,
   "metadata": {},
   "outputs": [],
   "source": [
    "for value in dictList:\n",
    "    save2json(value)"
   ]
  },
  {
   "cell_type": "code",
   "execution_count": 51,
   "metadata": {},
   "outputs": [
    {
     "data": {
      "text/plain": [
       "151"
      ]
     },
     "execution_count": 51,
     "metadata": {},
     "output_type": "execute_result"
    }
   ],
   "source": [
    "len(dictList)"
   ]
  },
  {
   "cell_type": "code",
   "execution_count": 45,
   "metadata": {},
   "outputs": [
    {
     "name": "stdout",
     "output_type": "stream",
     "text": [
      "(0, '5.1,3.5,1.4,0.2,Iris-setosa\\n')\n",
      "(1, '4.9,3.0,1.4,0.2,Iris-setosa\\n')\n",
      "(2, '4.7,3.2,1.3,0.2,Iris-setosa\\n')\n",
      "(3, '4.6,3.1,1.5,0.2,Iris-setosa\\n')\n",
      "(4, '5.0,3.6,1.4,0.2,Iris-setosa\\n')\n",
      "(5, '5.4,3.9,1.7,0.4,Iris-setosa\\n')\n",
      "(6, '4.6,3.4,1.4,0.3,Iris-setosa\\n')\n",
      "(7, '5.0,3.4,1.5,0.2,Iris-setosa\\n')\n",
      "(8, '4.4,2.9,1.4,0.2,Iris-setosa\\n')\n",
      "(9, '4.9,3.1,1.5,0.1,Iris-setosa\\n')\n",
      "(10, '5.4,3.7,1.5,0.2,Iris-setosa\\n')\n",
      "(11, '4.8,3.4,1.6,0.2,Iris-setosa\\n')\n",
      "(12, '4.8,3.0,1.4,0.1,Iris-setosa\\n')\n",
      "(13, '4.3,3.0,1.1,0.1,Iris-setosa\\n')\n",
      "(14, '5.8,4.0,1.2,0.2,Iris-setosa\\n')\n",
      "(15, '5.7,4.4,1.5,0.4,Iris-setosa\\n')\n",
      "(16, '5.4,3.9,1.3,0.4,Iris-setosa\\n')\n",
      "(17, '5.1,3.5,1.4,0.3,Iris-setosa\\n')\n",
      "(18, '5.7,3.8,1.7,0.3,Iris-setosa\\n')\n",
      "(19, '5.1,3.8,1.5,0.3,Iris-setosa\\n')\n",
      "(20, '5.4,3.4,1.7,0.2,Iris-setosa\\n')\n",
      "(21, '5.1,3.7,1.5,0.4,Iris-setosa\\n')\n",
      "(22, '4.6,3.6,1.0,0.2,Iris-setosa\\n')\n",
      "(23, '5.1,3.3,1.7,0.5,Iris-setosa\\n')\n",
      "(24, '4.8,3.4,1.9,0.2,Iris-setosa\\n')\n",
      "(25, '5.0,3.0,1.6,0.2,Iris-setosa\\n')\n",
      "(26, '5.0,3.4,1.6,0.4,Iris-setosa\\n')\n",
      "(27, '5.2,3.5,1.5,0.2,Iris-setosa\\n')\n",
      "(28, '5.2,3.4,1.4,0.2,Iris-setosa\\n')\n",
      "(29, '4.7,3.2,1.6,0.2,Iris-setosa\\n')\n",
      "(30, '4.8,3.1,1.6,0.2,Iris-setosa\\n')\n",
      "(31, '5.4,3.4,1.5,0.4,Iris-setosa\\n')\n",
      "(32, '5.2,4.1,1.5,0.1,Iris-setosa\\n')\n",
      "(33, '5.5,4.2,1.4,0.2,Iris-setosa\\n')\n",
      "(34, '4.9,3.1,1.5,0.1,Iris-setosa\\n')\n",
      "(35, '5.0,3.2,1.2,0.2,Iris-setosa\\n')\n",
      "(36, '5.5,3.5,1.3,0.2,Iris-setosa\\n')\n",
      "(37, '4.9,3.1,1.5,0.1,Iris-setosa\\n')\n",
      "(38, '4.4,3.0,1.3,0.2,Iris-setosa\\n')\n",
      "(39, '5.1,3.4,1.5,0.2,Iris-setosa\\n')\n",
      "(40, '5.0,3.5,1.3,0.3,Iris-setosa\\n')\n",
      "(41, '4.5,2.3,1.3,0.3,Iris-setosa\\n')\n",
      "(42, '4.4,3.2,1.3,0.2,Iris-setosa\\n')\n",
      "(43, '5.0,3.5,1.6,0.6,Iris-setosa\\n')\n",
      "(44, '5.1,3.8,1.9,0.4,Iris-setosa\\n')\n",
      "(45, '4.8,3.0,1.4,0.3,Iris-setosa\\n')\n",
      "(46, '5.1,3.8,1.6,0.2,Iris-setosa\\n')\n",
      "(47, '4.6,3.2,1.4,0.2,Iris-setosa\\n')\n",
      "(48, '5.3,3.7,1.5,0.2,Iris-setosa\\n')\n",
      "(49, '5.0,3.3,1.4,0.2,Iris-setosa\\n')\n",
      "(50, '7.0,3.2,4.7,1.4,Iris-versicolor\\n')\n",
      "(51, '6.4,3.2,4.5,1.5,Iris-versicolor\\n')\n",
      "(52, '6.9,3.1,4.9,1.5,Iris-versicolor\\n')\n",
      "(53, '5.5,2.3,4.0,1.3,Iris-versicolor\\n')\n",
      "(54, '6.5,2.8,4.6,1.5,Iris-versicolor\\n')\n",
      "(55, '5.7,2.8,4.5,1.3,Iris-versicolor\\n')\n",
      "(56, '6.3,3.3,4.7,1.6,Iris-versicolor\\n')\n",
      "(57, '4.9,2.4,3.3,1.0,Iris-versicolor\\n')\n",
      "(58, '6.6,2.9,4.6,1.3,Iris-versicolor\\n')\n",
      "(59, '5.2,2.7,3.9,1.4,Iris-versicolor\\n')\n",
      "(60, '5.0,2.0,3.5,1.0,Iris-versicolor\\n')\n",
      "(61, '5.9,3.0,4.2,1.5,Iris-versicolor\\n')\n",
      "(62, '6.0,2.2,4.0,1.0,Iris-versicolor\\n')\n",
      "(63, '6.1,2.9,4.7,1.4,Iris-versicolor\\n')\n",
      "(64, '5.6,2.9,3.6,1.3,Iris-versicolor\\n')\n",
      "(65, '6.7,3.1,4.4,1.4,Iris-versicolor\\n')\n",
      "(66, '5.6,3.0,4.5,1.5,Iris-versicolor\\n')\n",
      "(67, '5.8,2.7,4.1,1.0,Iris-versicolor\\n')\n",
      "(68, '6.2,2.2,4.5,1.5,Iris-versicolor\\n')\n",
      "(69, '5.6,2.5,3.9,1.1,Iris-versicolor\\n')\n",
      "(70, '5.9,3.2,4.8,1.8,Iris-versicolor\\n')\n",
      "(71, '6.1,2.8,4.0,1.3,Iris-versicolor\\n')\n",
      "(72, '6.3,2.5,4.9,1.5,Iris-versicolor\\n')\n",
      "(73, '6.1,2.8,4.7,1.2,Iris-versicolor\\n')\n",
      "(74, '6.4,2.9,4.3,1.3,Iris-versicolor\\n')\n",
      "(75, '6.6,3.0,4.4,1.4,Iris-versicolor\\n')\n",
      "(76, '6.8,2.8,4.8,1.4,Iris-versicolor\\n')\n",
      "(77, '6.7,3.0,5.0,1.7,Iris-versicolor\\n')\n",
      "(78, '6.0,2.9,4.5,1.5,Iris-versicolor\\n')\n",
      "(79, '5.7,2.6,3.5,1.0,Iris-versicolor\\n')\n",
      "(80, '5.5,2.4,3.8,1.1,Iris-versicolor\\n')\n",
      "(81, '5.5,2.4,3.7,1.0,Iris-versicolor\\n')\n",
      "(82, '5.8,2.7,3.9,1.2,Iris-versicolor\\n')\n",
      "(83, '6.0,2.7,5.1,1.6,Iris-versicolor\\n')\n",
      "(84, '5.4,3.0,4.5,1.5,Iris-versicolor\\n')\n",
      "(85, '6.0,3.4,4.5,1.6,Iris-versicolor\\n')\n",
      "(86, '6.7,3.1,4.7,1.5,Iris-versicolor\\n')\n",
      "(87, '6.3,2.3,4.4,1.3,Iris-versicolor\\n')\n",
      "(88, '5.6,3.0,4.1,1.3,Iris-versicolor\\n')\n",
      "(89, '5.5,2.5,4.0,1.3,Iris-versicolor\\n')\n",
      "(90, '5.5,2.6,4.4,1.2,Iris-versicolor\\n')\n",
      "(91, '6.1,3.0,4.6,1.4,Iris-versicolor\\n')\n",
      "(92, '5.8,2.6,4.0,1.2,Iris-versicolor\\n')\n",
      "(93, '5.0,2.3,3.3,1.0,Iris-versicolor\\n')\n",
      "(94, '5.6,2.7,4.2,1.3,Iris-versicolor\\n')\n",
      "(95, '5.7,3.0,4.2,1.2,Iris-versicolor\\n')\n",
      "(96, '5.7,2.9,4.2,1.3,Iris-versicolor\\n')\n",
      "(97, '6.2,2.9,4.3,1.3,Iris-versicolor\\n')\n",
      "(98, '5.1,2.5,3.0,1.1,Iris-versicolor\\n')\n",
      "(99, '5.7,2.8,4.1,1.3,Iris-versicolor\\n')\n",
      "(100, '6.3,3.3,6.0,2.5,Iris-virginica\\n')\n",
      "(101, '5.8,2.7,5.1,1.9,Iris-virginica\\n')\n",
      "(102, '7.1,3.0,5.9,2.1,Iris-virginica\\n')\n",
      "(103, '6.3,2.9,5.6,1.8,Iris-virginica\\n')\n",
      "(104, '6.5,3.0,5.8,2.2,Iris-virginica\\n')\n",
      "(105, '7.6,3.0,6.6,2.1,Iris-virginica\\n')\n",
      "(106, '4.9,2.5,4.5,1.7,Iris-virginica\\n')\n",
      "(107, '7.3,2.9,6.3,1.8,Iris-virginica\\n')\n",
      "(108, '6.7,2.5,5.8,1.8,Iris-virginica\\n')\n",
      "(109, '7.2,3.6,6.1,2.5,Iris-virginica\\n')\n",
      "(110, '6.5,3.2,5.1,2.0,Iris-virginica\\n')\n",
      "(111, '6.4,2.7,5.3,1.9,Iris-virginica\\n')\n",
      "(112, '6.8,3.0,5.5,2.1,Iris-virginica\\n')\n",
      "(113, '5.7,2.5,5.0,2.0,Iris-virginica\\n')\n",
      "(114, '5.8,2.8,5.1,2.4,Iris-virginica\\n')\n",
      "(115, '6.4,3.2,5.3,2.3,Iris-virginica\\n')\n",
      "(116, '6.5,3.0,5.5,1.8,Iris-virginica\\n')\n",
      "(117, '7.7,3.8,6.7,2.2,Iris-virginica\\n')\n",
      "(118, '7.7,2.6,6.9,2.3,Iris-virginica\\n')\n",
      "(119, '6.0,2.2,5.0,1.5,Iris-virginica\\n')\n",
      "(120, '6.9,3.2,5.7,2.3,Iris-virginica\\n')\n",
      "(121, '5.6,2.8,4.9,2.0,Iris-virginica\\n')\n",
      "(122, '7.7,2.8,6.7,2.0,Iris-virginica\\n')\n",
      "(123, '6.3,2.7,4.9,1.8,Iris-virginica\\n')\n",
      "(124, '6.7,3.3,5.7,2.1,Iris-virginica\\n')\n",
      "(125, '7.2,3.2,6.0,1.8,Iris-virginica\\n')\n",
      "(126, '6.2,2.8,4.8,1.8,Iris-virginica\\n')\n",
      "(127, '6.1,3.0,4.9,1.8,Iris-virginica\\n')\n",
      "(128, '6.4,2.8,5.6,2.1,Iris-virginica\\n')\n",
      "(129, '7.2,3.0,5.8,1.6,Iris-virginica\\n')\n",
      "(130, '7.4,2.8,6.1,1.9,Iris-virginica\\n')\n",
      "(131, '7.9,3.8,6.4,2.0,Iris-virginica\\n')\n",
      "(132, '6.4,2.8,5.6,2.2,Iris-virginica\\n')\n",
      "(133, '6.3,2.8,5.1,1.5,Iris-virginica\\n')\n",
      "(134, '6.1,2.6,5.6,1.4,Iris-virginica\\n')\n",
      "(135, '7.7,3.0,6.1,2.3,Iris-virginica\\n')\n",
      "(136, '6.3,3.4,5.6,2.4,Iris-virginica\\n')\n",
      "(137, '6.4,3.1,5.5,1.8,Iris-virginica\\n')\n",
      "(138, '6.0,3.0,4.8,1.8,Iris-virginica\\n')\n",
      "(139, '6.9,3.1,5.4,2.1,Iris-virginica\\n')\n",
      "(140, '6.7,3.1,5.6,2.4,Iris-virginica\\n')\n",
      "(141, '6.9,3.1,5.1,2.3,Iris-virginica\\n')\n",
      "(142, '5.8,2.7,5.1,1.9,Iris-virginica\\n')\n",
      "(143, '6.8,3.2,5.9,2.3,Iris-virginica\\n')\n",
      "(144, '6.7,3.3,5.7,2.5,Iris-virginica\\n')\n",
      "(145, '6.7,3.0,5.2,2.3,Iris-virginica\\n')\n",
      "(146, '6.3,2.5,5.0,1.9,Iris-virginica\\n')\n",
      "(147, '6.5,3.0,5.2,2.0,Iris-virginica\\n')\n",
      "(148, '6.2,3.4,5.4,2.3,Iris-virginica\\n')\n",
      "(149, '5.9,3.0,5.1,1.8,Iris-virginica\\n')\n",
      "(150, '\\n')\n"
     ]
    }
   ],
   "source": [
    "for i in enumerate(ls):\n",
    "    print(i)"
   ]
  }
 ],
 "metadata": {
  "anaconda-cloud": {},
  "kernelspec": {
   "display_name": "Python 3",
   "language": "python",
   "name": "python3"
  },
  "language_info": {
   "codemirror_mode": {
    "name": "ipython",
    "version": 3
   },
   "file_extension": ".py",
   "mimetype": "text/x-python",
   "name": "python",
   "nbconvert_exporter": "python",
   "pygments_lexer": "ipython3",
   "version": "3.6.1"
  }
 },
 "nbformat": 4,
 "nbformat_minor": 1
}
